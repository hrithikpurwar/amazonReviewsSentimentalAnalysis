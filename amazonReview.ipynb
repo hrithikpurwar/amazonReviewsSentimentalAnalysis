{
  "nbformat": 4,
  "nbformat_minor": 0,
  "metadata": {
    "colab": {
      "name": "amazonReview.ipynb",
      "provenance": [],
      "authorship_tag": "ABX9TyMN827s0BpWeb+bNwczEYCc",
      "include_colab_link": true
    },
    "kernelspec": {
      "name": "python3",
      "display_name": "Python 3"
    },
    "language_info": {
      "name": "python"
    }
  },
  "cells": [
    {
      "cell_type": "markdown",
      "metadata": {
        "id": "view-in-github",
        "colab_type": "text"
      },
      "source": [
        "<a href=\"https://colab.research.google.com/github/hrithikpurwar/amazonReviewsSentimentalAnalysis/blob/main/amazonReview.ipynb\" target=\"_parent\"><img src=\"https://colab.research.google.com/assets/colab-badge.svg\" alt=\"Open In Colab\"/></a>"
      ]
    },
    {
      "cell_type": "code",
      "metadata": {
        "id": "ztnDlkUZmRoM"
      },
      "source": [
        "from google.colab import drive"
      ],
      "execution_count": 1,
      "outputs": []
    },
    {
      "cell_type": "code",
      "metadata": {
        "colab": {
          "base_uri": "https://localhost:8080/"
        },
        "id": "3p7D3e1dqwzL",
        "outputId": "d7b07461-5959-40ab-f0da-621a7c19dafe"
      },
      "source": [
        "drive.mount(\"/content/drive\")"
      ],
      "execution_count": 3,
      "outputs": [
        {
          "output_type": "stream",
          "text": [
            "Mounted at /content/drive\n"
          ],
          "name": "stdout"
        }
      ]
    },
    {
      "cell_type": "code",
      "metadata": {
        "id": "It1wR9FAq3h0"
      },
      "source": [
        "import pandas as pd\n",
        "import numpy as np\n"
      ],
      "execution_count": 4,
      "outputs": []
    },
    {
      "cell_type": "code",
      "metadata": {
        "id": "eOSP4b3Qw2Xh"
      },
      "source": [
        "import bz2"
      ],
      "execution_count": 8,
      "outputs": []
    },
    {
      "cell_type": "code",
      "metadata": {
        "id": "Yn83w7dWt5Nw"
      },
      "source": [
        "def fetching(file):\n",
        "  labels=[]\n",
        "  texts=[]\n",
        "  for line in bz2.BZ2File(file):\n",
        "    x=line.decode(\"utf-8\")\n",
        "    labels.append(int(x[9])-1)\n",
        "    texts.append(x[10:].strip())\n",
        "  return np.array(labels),texts\n",
        "train_labels, train_texts=fetching(\"/content/drive/MyDrive/Datasets/train.ft.txt.bz2\")\n",
        "test_labels, test_texts=fetching(\"/content/drive/MyDrive/Datasets/test.ft.txt.bz2\")"
      ],
      "execution_count": 9,
      "outputs": []
    },
    {
      "cell_type": "code",
      "metadata": {
        "colab": {
          "base_uri": "https://localhost:8080/"
        },
        "id": "eDN-wt4Lvlfb",
        "outputId": "edf0ced0-c368-4679-c4b9-80335e5d4e34"
      },
      "source": [
        "train_labels[0]"
      ],
      "execution_count": 10,
      "outputs": [
        {
          "output_type": "execute_result",
          "data": {
            "text/plain": [
              "1"
            ]
          },
          "metadata": {
            "tags": []
          },
          "execution_count": 10
        }
      ]
    },
    {
      "cell_type": "code",
      "metadata": {
        "colab": {
          "base_uri": "https://localhost:8080/",
          "height": 88
        },
        "id": "9E_CJPBmxnvX",
        "outputId": "badd5f04-ad12-41f2-8cf8-65e39cc22e40"
      },
      "source": [
        "train_texts[0]"
      ],
      "execution_count": 11,
      "outputs": [
        {
          "output_type": "execute_result",
          "data": {
            "application/vnd.google.colaboratory.intrinsic+json": {
              "type": "string"
            },
            "text/plain": [
              "'Stuning even for the non-gamer: This sound track was beautiful! It paints the senery in your mind so well I would recomend it even to people who hate vid. game music! I have played the game Chrono Cross but out of all of the games I have ever played it has the best music! It backs away from crude keyboarding and takes a fresher step with grate guitars and soulful orchestras. It would impress anyone who cares to listen! ^_^'"
            ]
          },
          "metadata": {
            "tags": []
          },
          "execution_count": 11
        }
      ]
    },
    {
      "cell_type": "code",
      "metadata": {
        "id": "07Ae9ex6xqxk"
      },
      "source": [
        "train_labels=train_labels[0:500]\n",
        "train_texts=train_texts[0:500]"
      ],
      "execution_count": 12,
      "outputs": []
    },
    {
      "cell_type": "code",
      "metadata": {
        "id": "JuY9EsbSyN1O"
      },
      "source": [
        "import re\n",
        "NON_ALPHANUM=re.compile(r'[\\W]')\n",
        "NON_ASCII=re.compile(r'[^a-z0-1\\s]')\n",
        "def normalize(texts):\n",
        "  normalized_texts=[]\n",
        "  for text in texts:\n",
        "    lower=text.lower()\n",
        "    no_punc=NON_ALPHANUM.sub(r' ',lower)\n",
        "    no_nonascii=NON_ASCII.sub(r'',no_punc)\n",
        "    normalized_texts.append(no_nonascii)\n",
        "  return normalized_texts\n",
        "train_texts=normalize(train_texts)\n",
        "test_texts=normalize(test_texts)\n"
      ],
      "execution_count": 13,
      "outputs": []
    },
    {
      "cell_type": "code",
      "metadata": {
        "colab": {
          "base_uri": "https://localhost:8080/",
          "height": 88
        },
        "id": "3WqhvgQU0ZeX",
        "outputId": "811cbb64-b6f9-46cc-a3d4-4de00224c7f1"
      },
      "source": [
        "train_texts[0]\n"
      ],
      "execution_count": 14,
      "outputs": [
        {
          "output_type": "execute_result",
          "data": {
            "application/vnd.google.colaboratory.intrinsic+json": {
              "type": "string"
            },
            "text/plain": [
              "'stuning even for the non gamer  this sound track was beautiful  it paints the senery in your mind so well i would recomend it even to people who hate vid  game music  i have played the game chrono cross but out of all of the games i have ever played it has the best music  it backs away from crude keyboarding and takes a fresher step with grate guitars and soulful orchestras  it would impress anyone who cares to listen    '"
            ]
          },
          "metadata": {
            "tags": []
          },
          "execution_count": 14
        }
      ]
    },
    {
      "cell_type": "code",
      "metadata": {
        "colab": {
          "base_uri": "https://localhost:8080/",
          "height": 105
        },
        "id": "gFQ5e-6U0fSG",
        "outputId": "475720e0-13b8-4ce7-b940-3f35839e11ea"
      },
      "source": [
        "test_texts[0]"
      ],
      "execution_count": 15,
      "outputs": [
        {
          "output_type": "execute_result",
          "data": {
            "application/vnd.google.colaboratory.intrinsic+json": {
              "type": "string"
            },
            "text/plain": [
              "'great cd  my lovely pat has one of the great voices of her generation  i have listened to this cd for years and i still love it  when i m in a good mood it makes me feel better  a bad mood just evaporates like sugar in the rain  this cd just oozes life  vocals are jusat stuunning and lyrics just kill  one of life s hidden gems  this is a desert isle cd in my book  why she never made it big is just beyond me  everytime i play this  no matter black  white  young  old  male  female everybody says one thing  who was that singing   '"
            ]
          },
          "metadata": {
            "tags": []
          },
          "execution_count": 15
        }
      ]
    },
    {
      "cell_type": "code",
      "metadata": {
        "id": "fPQXA7PZ0h96"
      },
      "source": [
        "from sklearn.feature_extraction.text import CountVectorizer\n",
        "cv=CountVectorizer(binary=True)\n",
        "cv.fit(train_texts)\n",
        "X=cv.transform(train_texts)\n",
        "X_test=cv.transform(test_texts)"
      ],
      "execution_count": 16,
      "outputs": []
    },
    {
      "cell_type": "code",
      "metadata": {
        "colab": {
          "base_uri": "https://localhost:8080/"
        },
        "id": "1cZUTKcJ17OA",
        "outputId": "80938dec-1484-417c-8fed-8a4ea0710d81"
      },
      "source": [
        "X_test"
      ],
      "execution_count": 17,
      "outputs": [
        {
          "output_type": "execute_result",
          "data": {
            "text/plain": [
              "<400000x5778 sparse matrix of type '<class 'numpy.int64'>'\n",
              "\twith 18647020 stored elements in Compressed Sparse Row format>"
            ]
          },
          "metadata": {
            "tags": []
          },
          "execution_count": 17
        }
      ]
    },
    {
      "cell_type": "code",
      "metadata": {
        "colab": {
          "base_uri": "https://localhost:8080/"
        },
        "id": "uUJ_Ovlx2Dcs",
        "outputId": "3093bfb9-4c4e-477e-e3ba-7592c9c21443"
      },
      "source": [
        "X"
      ],
      "execution_count": 18,
      "outputs": [
        {
          "output_type": "execute_result",
          "data": {
            "text/plain": [
              "<500x5778 sparse matrix of type '<class 'numpy.int64'>'\n",
              "\twith 28520 stored elements in Compressed Sparse Row format>"
            ]
          },
          "metadata": {
            "tags": []
          },
          "execution_count": 18
        }
      ]
    },
    {
      "cell_type": "code",
      "metadata": {
        "colab": {
          "base_uri": "https://localhost:8080/"
        },
        "id": "bfRKzflk2E7Q",
        "outputId": "6438f293-7c0b-4d0a-9284-5ba403d74c3c"
      },
      "source": [
        "from sklearn.linear_model import LogisticRegression\n",
        "from sklearn.metrics import accuracy_score\n",
        "from sklearn.model_selection import train_test_split\n",
        "X_train, X_val, Y_train, Y_val= train_test_split(X, train_labels, train_size=0.7)\n",
        "for c in [0.01,0.05, 0.25, 0.5, 1]:\n",
        "  lr=LogisticRegression(C=c)\n",
        "  lr.fit(X_train, Y_train)\n",
        "  print(accuracy_score(Y_val, lr.predict(X_val)))"
      ],
      "execution_count": 20,
      "outputs": [
        {
          "output_type": "stream",
          "text": [
            "0.7333333333333333\n",
            "0.7466666666666667\n",
            "0.7533333333333333\n",
            "0.76\n",
            "0.7533333333333333\n"
          ],
          "name": "stdout"
        }
      ]
    },
    {
      "cell_type": "code",
      "metadata": {
        "colab": {
          "base_uri": "https://localhost:8080/"
        },
        "id": "m46UaV3b3Kzr",
        "outputId": "6a347fd5-8c66-4ad0-9dae-557973752269"
      },
      "source": [
        "lr=LogisticRegression(C=0.5)\n",
        "lr.fit(X_train, Y_train)\n",
        "print(accuracy_score(Y_val, lr.predict(X_val)))"
      ],
      "execution_count": 21,
      "outputs": [
        {
          "output_type": "stream",
          "text": [
            "0.76\n"
          ],
          "name": "stdout"
        }
      ]
    },
    {
      "cell_type": "code",
      "metadata": {
        "id": "cg4H4dpu3qzv"
      },
      "source": [
        "import pickle\n",
        "pickle_out = open(\"lr.pkl\",\"wb\")\n",
        "pickle.dump(lr, pickle_out)\n",
        "pickle_out.close()"
      ],
      "execution_count": 22,
      "outputs": []
    },
    {
      "cell_type": "code",
      "metadata": {
        "id": "2ZIm4n0Y5EHB"
      },
      "source": [
        "import pickle\n",
        "pickle_out = open(\"lr.pkl\",\"wb\")\n",
        "pickle.dump(lr, pickle_out)\n",
        "pickle_out.close()"
      ],
      "execution_count": 23,
      "outputs": []
    },
    {
      "cell_type": "code",
      "metadata": {
        "id": "cmat7-it5S1V"
      },
      "source": [
        "import pickle\n",
        "pickle_out = open(\"cv.pkl\",\"wb\")\n",
        "pickle.dump(cv, pickle_out)\n",
        "pickle_out.close()"
      ],
      "execution_count": 24,
      "outputs": []
    },
    {
      "cell_type": "code",
      "metadata": {
        "colab": {
          "base_uri": "https://localhost:8080/"
        },
        "id": "Dq9J4NNd5hd_",
        "outputId": "6f2b1e1c-633b-40d9-89c8-45826e62047e"
      },
      "source": [
        "lr.predict(cv.transform(['you are very bad']))"
      ],
      "execution_count": 44,
      "outputs": [
        {
          "output_type": "execute_result",
          "data": {
            "text/plain": [
              "array([0])"
            ]
          },
          "metadata": {
            "tags": []
          },
          "execution_count": 44
        }
      ]
    },
    {
      "cell_type": "code",
      "metadata": {
        "colab": {
          "base_uri": "https://localhost:8080/"
        },
        "id": "qCIeaYut6-Nx",
        "outputId": "ef8159a7-4eff-4436-b1d3-388b3e97a609"
      },
      "source": [
        "lr.predict(cv.transform(['you are very good']))"
      ],
      "execution_count": 32,
      "outputs": [
        {
          "output_type": "execute_result",
          "data": {
            "text/plain": [
              "array([1])"
            ]
          },
          "metadata": {
            "tags": []
          },
          "execution_count": 32
        }
      ]
    },
    {
      "cell_type": "code",
      "metadata": {
        "colab": {
          "base_uri": "https://localhost:8080/"
        },
        "id": "wpCw460k7dg_",
        "outputId": "5dff5ab2-ba86-4003-ae27-504e3c28144b"
      },
      "source": [
        "lr.predict(cv.transform(['didnt run off of USB bus power: Was hoping that this drive would run off of bus power, but it required the adapter to actually work. :( I sent it back.']))"
      ],
      "execution_count": 48,
      "outputs": [
        {
          "output_type": "execute_result",
          "data": {
            "text/plain": [
              "array([0])"
            ]
          },
          "metadata": {
            "tags": []
          },
          "execution_count": 48
        }
      ]
    },
    {
      "cell_type": "code",
      "metadata": {
        "id": "ceF1nZ6C8b8O"
      },
      "source": [
        ""
      ],
      "execution_count": null,
      "outputs": []
    }
  ]
}